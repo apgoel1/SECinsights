{
 "cells": [
  {
   "cell_type": "markdown",
   "id": "53657ffc",
   "metadata": {},
   "source": [
    "this is a markdown comment. the ipynb format is useful for getting individual cells to run"
   ]
  },
  {
   "cell_type": "code",
   "execution_count": 3,
   "id": "c17046e3",
   "metadata": {},
   "outputs": [
    {
     "name": "stdout",
     "output_type": "stream",
     "text": [
      "Here we go!\n"
     ]
    }
   ],
   "source": [
    "x = \"Here we go!\"\n",
    "print(x)"
   ]
  },
  {
   "cell_type": "code",
   "execution_count": 12,
   "id": "7a13478f",
   "metadata": {},
   "outputs": [
    {
     "name": "stdout",
     "output_type": "stream",
     "text": [
      "3.13.5 (v3.13.5:6cb20a219a8, Jun 11 2025, 12:23:45) [Clang 16.0.0 (clang-1600.0.26.6)]\n"
     ]
    }
   ],
   "source": [
    "import sys\n",
    "print(sys.version)\n"
   ]
  },
  {
   "cell_type": "code",
   "execution_count": null,
   "id": "de6252b9",
   "metadata": {},
   "outputs": [],
   "source": [
    "# Cell 1 - Imports and Setup\n",
    "import requests\n",
    "import pandas as pd\n",
    "\n",
    "headers = {'User-Agent': 'aditya.goel.tx@gmail.com'}\n"
   ]
  }
 ],
 "metadata": {
  "kernelspec": {
   "display_name": "Python 3",
   "language": "python",
   "name": "python3"
  },
  "language_info": {
   "codemirror_mode": {
    "name": "ipython",
    "version": 3
   },
   "file_extension": ".py",
   "mimetype": "text/x-python",
   "name": "python",
   "nbconvert_exporter": "python",
   "pygments_lexer": "ipython3",
   "version": "3.13.5"
  }
 },
 "nbformat": 4,
 "nbformat_minor": 5
}
