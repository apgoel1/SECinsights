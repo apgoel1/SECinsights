{
 "cells": [
  {
   "cell_type": "markdown",
   "id": "53657ffc",
   "metadata": {},
   "source": [
    "this is a markdown comment. the ipynb format is useful for getting individual cells to run"
   ]
  },
  {
   "cell_type": "code",
   "execution_count": 38,
   "id": "c17046e3",
   "metadata": {},
   "outputs": [
    {
     "name": "stdout",
     "output_type": "stream",
     "text": [
      "Here we go!\n"
     ]
    }
   ],
   "source": [
    "x = \"Here we go!\"\n",
    "print(x)"
   ]
  },
  {
   "cell_type": "code",
   "execution_count": 39,
   "id": "7a13478f",
   "metadata": {},
   "outputs": [
    {
     "name": "stdout",
     "output_type": "stream",
     "text": [
      "3.13.5 (v3.13.5:6cb20a219a8, Jun 11 2025, 12:23:45) [Clang 16.0.0 (clang-1600.0.26.6)]\n"
     ]
    }
   ],
   "source": [
    "import sys\n",
    "print(sys.version)\n"
   ]
  },
  {
   "cell_type": "code",
   "execution_count": 40,
   "id": "de6252b9",
   "metadata": {},
   "outputs": [],
   "source": [
    "# Cell 1 - Imports and Setup\n",
    "import requests\n",
    "from bs4 import BeautifulSoup\n",
    "from fuzzywuzzy import process\n",
    "import pandas as pd\n",
    "\n",
    "headers = {'User-Agent': 'aditya.goel.tx@gmail.com'}\n"
   ]
  },
  {
   "cell_type": "code",
   "execution_count": 41,
   "id": "60a21f1e",
   "metadata": {},
   "outputs": [
    {
     "data": {
      "text/html": [
       "<div>\n",
       "<style scoped>\n",
       "    .dataframe tbody tr th:only-of-type {\n",
       "        vertical-align: middle;\n",
       "    }\n",
       "\n",
       "    .dataframe tbody tr th {\n",
       "        vertical-align: top;\n",
       "    }\n",
       "\n",
       "    .dataframe thead th {\n",
       "        text-align: right;\n",
       "    }\n",
       "</style>\n",
       "<table border=\"1\" class=\"dataframe\">\n",
       "  <thead>\n",
       "    <tr style=\"text-align: right;\">\n",
       "      <th></th>\n",
       "      <th>fund_group</th>\n",
       "      <th>fund_id</th>\n",
       "      <th>name</th>\n",
       "      <th>ticker</th>\n",
       "      <th>fund_stkid</th>\n",
       "      <th>advt</th>\n",
       "      <th>fund_type</th>\n",
       "    </tr>\n",
       "  </thead>\n",
       "  <tbody>\n",
       "    <tr>\n",
       "      <th>0</th>\n",
       "      <td>fund</td>\n",
       "      <td>04B8BC-E</td>\n",
       "      <td>American Beacon Balanced Fund</td>\n",
       "      <td>ABCCX US</td>\n",
       "      <td>135909</td>\n",
       "      <td>0</td>\n",
       "      <td>MF_O</td>\n",
       "    </tr>\n",
       "    <tr>\n",
       "      <th>1</th>\n",
       "      <td>fund</td>\n",
       "      <td>04B8BD-E</td>\n",
       "      <td>American Beacon Large Cap Value Fund</td>\n",
       "      <td>AADEX US</td>\n",
       "      <td>25667</td>\n",
       "      <td>0</td>\n",
       "      <td>MF_O</td>\n",
       "    </tr>\n",
       "    <tr>\n",
       "      <th>2</th>\n",
       "      <td>fund</td>\n",
       "      <td>04B8BK-E</td>\n",
       "      <td>RBC Enterprise Fund</td>\n",
       "      <td>TETAX US</td>\n",
       "      <td>84097</td>\n",
       "      <td>0</td>\n",
       "      <td>MF_O</td>\n",
       "    </tr>\n",
       "    <tr>\n",
       "      <th>3</th>\n",
       "      <td>fund</td>\n",
       "      <td>04B8BQ-E</td>\n",
       "      <td>Cohen &amp; Steers Real Estate Securities Fund</td>\n",
       "      <td>CREFX US</td>\n",
       "      <td>210588</td>\n",
       "      <td>0</td>\n",
       "      <td>MF_O</td>\n",
       "    </tr>\n",
       "    <tr>\n",
       "      <th>4</th>\n",
       "      <td>fund</td>\n",
       "      <td>04B8BY-E</td>\n",
       "      <td>Voya Growth &amp; Income Portfolio</td>\n",
       "      <td>ISVGX US</td>\n",
       "      <td>119362</td>\n",
       "      <td>0</td>\n",
       "      <td>MF_O</td>\n",
       "    </tr>\n",
       "    <tr>\n",
       "      <th>...</th>\n",
       "      <td>...</td>\n",
       "      <td>...</td>\n",
       "      <td>...</td>\n",
       "      <td>...</td>\n",
       "      <td>...</td>\n",
       "      <td>...</td>\n",
       "      <td>...</td>\n",
       "    </tr>\n",
       "    <tr>\n",
       "      <th>4837</th>\n",
       "      <td>fund</td>\n",
       "      <td>10L5FM-E</td>\n",
       "      <td>Naa World Equity Income Fund</td>\n",
       "      <td>SFGCX US</td>\n",
       "      <td>67247</td>\n",
       "      <td>0</td>\n",
       "      <td>MF_O</td>\n",
       "    </tr>\n",
       "    <tr>\n",
       "      <th>4838</th>\n",
       "      <td>fund</td>\n",
       "      <td>10MBT4-E</td>\n",
       "      <td>Kensington Dynamic Growth</td>\n",
       "      <td>KAGCX US</td>\n",
       "      <td>264944</td>\n",
       "      <td>0</td>\n",
       "      <td>MF_O</td>\n",
       "    </tr>\n",
       "    <tr>\n",
       "      <th>4839</th>\n",
       "      <td>fund</td>\n",
       "      <td>10ZJSS-E</td>\n",
       "      <td>Vontobel US Equity Fund</td>\n",
       "      <td>VNUYX US</td>\n",
       "      <td>224821</td>\n",
       "      <td>0</td>\n",
       "      <td>MF_O</td>\n",
       "    </tr>\n",
       "    <tr>\n",
       "      <th>4840</th>\n",
       "      <td>fund</td>\n",
       "      <td>112M3V-E</td>\n",
       "      <td>New Age Alpha SMid Cap Value Fund</td>\n",
       "      <td>SEVSX US</td>\n",
       "      <td>67504</td>\n",
       "      <td>0</td>\n",
       "      <td>MF_O</td>\n",
       "    </tr>\n",
       "    <tr>\n",
       "      <th>4841</th>\n",
       "      <td>fund</td>\n",
       "      <td>11MZ86-E</td>\n",
       "      <td>SEGALL BRYANT &amp; HAMILL TRUST - Barrett Opportu...</td>\n",
       "      <td>SAOPX US</td>\n",
       "      <td>12371</td>\n",
       "      <td>0</td>\n",
       "      <td>MF_O</td>\n",
       "    </tr>\n",
       "  </tbody>\n",
       "</table>\n",
       "<p>4842 rows × 7 columns</p>\n",
       "</div>"
      ],
      "text/plain": [
       "     fund_group   fund_id                                               name  \\\n",
       "0          fund  04B8BC-E                      American Beacon Balanced Fund   \n",
       "1          fund  04B8BD-E               American Beacon Large Cap Value Fund   \n",
       "2          fund  04B8BK-E                                RBC Enterprise Fund   \n",
       "3          fund  04B8BQ-E         Cohen & Steers Real Estate Securities Fund   \n",
       "4          fund  04B8BY-E                     Voya Growth & Income Portfolio   \n",
       "...         ...       ...                                                ...   \n",
       "4837       fund  10L5FM-E                       Naa World Equity Income Fund   \n",
       "4838       fund  10MBT4-E                          Kensington Dynamic Growth   \n",
       "4839       fund  10ZJSS-E                            Vontobel US Equity Fund   \n",
       "4840       fund  112M3V-E                  New Age Alpha SMid Cap Value Fund   \n",
       "4841       fund  11MZ86-E  SEGALL BRYANT & HAMILL TRUST - Barrett Opportu...   \n",
       "\n",
       "        ticker  fund_stkid  advt fund_type  \n",
       "0     ABCCX US      135909     0      MF_O  \n",
       "1     AADEX US       25667     0      MF_O  \n",
       "2     TETAX US       84097     0      MF_O  \n",
       "3     CREFX US      210588     0      MF_O  \n",
       "4     ISVGX US      119362     0      MF_O  \n",
       "...        ...         ...   ...       ...  \n",
       "4837  SFGCX US       67247     0      MF_O  \n",
       "4838  KAGCX US      264944     0      MF_O  \n",
       "4839  VNUYX US      224821     0      MF_O  \n",
       "4840  SEVSX US       67504     0      MF_O  \n",
       "4841  SAOPX US       12371     0      MF_O  \n",
       "\n",
       "[4842 rows x 7 columns]"
      ]
     },
     "execution_count": 41,
     "metadata": {},
     "output_type": "execute_result"
    }
   ],
   "source": [
    "# Cell 2 - Load Clean Fund List CSV\n",
    "df_funds = pd.read_csv(\"Clean_Fund_List.csv\")\n",
    "df_funds"
   ]
  },
  {
   "cell_type": "code",
   "execution_count": 57,
   "id": "31ff5f78",
   "metadata": {},
   "outputs": [],
   "source": [
    "\n",
    "\n",
    "def get_cik_from_mutual_fund(fund_name):\n",
    "    # Format the URL with the fund name\n",
    "    base_url = \"https://www.sec.gov/cgi-bin/series\"\n",
    "    params = {\n",
    "        \"company\": fund_name,\n",
    "        \"sc\": \"companyseries\",\n",
    "        \"type\": \"N-PX\"\n",
    "    }\n",
    "\n",
    "    response = requests.get(base_url, params=params, headers=headers)\n",
    "\n",
    "    if response.status_code != 200:\n",
    "        print(\"Error fetching data from SEC.\")\n",
    "        return None\n",
    "\n",
    "    # Parse HTML response\n",
    "    soup = BeautifulSoup(response.text, \"html.parser\")\n",
    "\n",
    "    # Look for links that contain 'CIK=' in href\n",
    "    links = soup.find_all('a', href=True)\n",
    "\n",
    "    for link in links:\n",
    "        href = link['href']\n",
    "        if 'CIK=' in href:\n",
    "            # Extract CIK value\n",
    "            cik_value = href.split(\"CIK=\")[1].split(\"&\")[0]\n",
    "            return cik_value\n",
    "\n",
    "    print(\"CIK not found in the page.\")\n",
    "    return None"
   ]
  },
  {
   "cell_type": "code",
   "execution_count": 72,
   "id": "96b332ec",
   "metadata": {},
   "outputs": [
    {
     "name": "stdout",
     "output_type": "stream",
     "text": [
      "Testing fund: Columbia Acorn Fund\n",
      "CIK found: 0000002110\n"
     ]
    }
   ],
   "source": [
    "# Try the first fund in your list\n",
    "test_name = df_funds.iloc[10]['name'] \n",
    "print(\"Testing fund:\", test_name)\n",
    "\n",
    "# Try retrieving CIK\n",
    "cik = get_cik_from_mutual_fund(test_name)\n",
    "print(\"CIK found:\", cik)\n"
   ]
  }
 ],
 "metadata": {
  "kernelspec": {
   "display_name": "Python 3",
   "language": "python",
   "name": "python3"
  },
  "language_info": {
   "codemirror_mode": {
    "name": "ipython",
    "version": 3
   },
   "file_extension": ".py",
   "mimetype": "text/x-python",
   "name": "python",
   "nbconvert_exporter": "python",
   "pygments_lexer": "ipython3",
   "version": "3.13.5"
  }
 },
 "nbformat": 4,
 "nbformat_minor": 5
}
